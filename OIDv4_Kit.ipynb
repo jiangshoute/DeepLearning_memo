{
  "nbformat": 4,
  "nbformat_minor": 0,
  "metadata": {
    "colab": {
      "name": "OIDv4_Kit.ipynb",
      "provenance": [],
      "collapsed_sections": [],
      "authorship_tag": "ABX9TyM9Gt1kFaS3WS2QDCWchzWA",
      "include_colab_link": true
    },
    "kernelspec": {
      "name": "python3",
      "display_name": "Python 3"
    }
  },
  "cells": [
    {
      "cell_type": "markdown",
      "metadata": {
        "id": "view-in-github",
        "colab_type": "text"
      },
      "source": [
        "<a href=\"https://colab.research.google.com/github/jiangshoute/DeepLearning_memo/blob/main/OIDv4_Kit.ipynb\" target=\"_parent\"><img src=\"https://colab.research.google.com/assets/colab-badge.svg\" alt=\"Open In Colab\"/></a>"
      ]
    },
    {
      "cell_type": "code",
      "metadata": {
        "id": "Z3IVgmGbRmkG"
      },
      "source": [
        "from google.colab import drive"
      ],
      "execution_count": null,
      "outputs": []
    },
    {
      "cell_type": "code",
      "metadata": {
        "colab": {
          "base_uri": "https://localhost:8080/"
        },
        "id": "QwMxBN--RxHJ",
        "outputId": "eb6af91f-56ba-45b4-e1c2-e084cf34aa77"
      },
      "source": [
        "drive.mount(\"/content/MyDrive\")"
      ],
      "execution_count": null,
      "outputs": [
        {
          "output_type": "stream",
          "text": [
            "Mounted at /content/MyDrive\n"
          ],
          "name": "stdout"
        }
      ]
    },
    {
      "cell_type": "code",
      "metadata": {
        "colab": {
          "base_uri": "https://localhost:8080/"
        },
        "id": "F0sLpXplR4nk",
        "outputId": "0d9c9136-1d91-472a-ff1d-de9baddfeb05"
      },
      "source": [
        "%cd /content/MyDrive/MyDrive/data/human_head/"
      ],
      "execution_count": null,
      "outputs": [
        {
          "output_type": "stream",
          "text": [
            "/content/MyDrive/MyDrive/data/human_head\n"
          ],
          "name": "stdout"
        }
      ]
    },
    {
      "cell_type": "code",
      "metadata": {
        "colab": {
          "base_uri": "https://localhost:8080/"
        },
        "id": "DvWpHM1cSF0v",
        "outputId": "caf2fbbc-4476-4cdd-e1cf-8162228c4995"
      },
      "source": [
        "!git clone https://github.com/EscVM/OIDv4_ToolKit.git"
      ],
      "execution_count": null,
      "outputs": [
        {
          "output_type": "stream",
          "text": [
            "Cloning into 'OIDv4_ToolKit'...\n",
            "remote: Enumerating objects: 422, done.\u001b[K\n",
            "remote: Total 422 (delta 0), reused 0 (delta 0), pack-reused 422\u001b[K\n",
            "Receiving objects: 100% (422/422), 34.08 MiB | 11.82 MiB/s, done.\n",
            "Resolving deltas: 100% (146/146), done.\n"
          ],
          "name": "stdout"
        }
      ]
    },
    {
      "cell_type": "code",
      "metadata": {
        "colab": {
          "base_uri": "https://localhost:8080/"
        },
        "id": "s0AQCl_dSFK-",
        "outputId": "d2c14422-552f-4b7d-c97f-201ed8bc92d6"
      },
      "source": [
        "%cd OIDv4_ToolKit"
      ],
      "execution_count": null,
      "outputs": [
        {
          "output_type": "stream",
          "text": [
            "/content/MyDrive/MyDrive/data/human_head/OIDv4_ToolKit\n"
          ],
          "name": "stdout"
        }
      ]
    },
    {
      "cell_type": "code",
      "metadata": {
        "colab": {
          "base_uri": "https://localhost:8080/"
        },
        "id": "qltmjnkBSbBd",
        "outputId": "ca1bf10c-3b0a-4d3a-ebf9-edeaf38375d6"
      },
      "source": [
        "!pip3 install -r requirements.txt"
      ],
      "execution_count": null,
      "outputs": [
        {
          "output_type": "stream",
          "text": [
            "Requirement already satisfied: pandas in /usr/local/lib/python3.6/dist-packages (from -r requirements.txt (line 1)) (1.1.5)\n",
            "Requirement already satisfied: numpy in /usr/local/lib/python3.6/dist-packages (from -r requirements.txt (line 2)) (1.19.5)\n",
            "Collecting awscli\n",
            "\u001b[?25l  Downloading https://files.pythonhosted.org/packages/a4/69/8986540fcd9ee8cacddb1eecb58ccce863a715c4ad1ef649b13ce4d38c7b/awscli-1.18.219-py2.py3-none-any.whl (3.5MB)\n",
            "\u001b[K     |████████████████████████████████| 3.5MB 6.4MB/s \n",
            "\u001b[?25hRequirement already satisfied: urllib3 in /usr/local/lib/python3.6/dist-packages (from -r requirements.txt (line 5)) (1.24.3)\n",
            "Requirement already satisfied: tqdm in /usr/local/lib/python3.6/dist-packages (from -r requirements.txt (line 7)) (4.41.1)\n",
            "Requirement already satisfied: opencv-python in /usr/local/lib/python3.6/dist-packages (from -r requirements.txt (line 9)) (4.1.2.30)\n",
            "Requirement already satisfied: python-dateutil>=2.7.3 in /usr/local/lib/python3.6/dist-packages (from pandas->-r requirements.txt (line 1)) (2.8.1)\n",
            "Requirement already satisfied: pytz>=2017.2 in /usr/local/lib/python3.6/dist-packages (from pandas->-r requirements.txt (line 1)) (2018.9)\n",
            "Collecting botocore==1.19.59\n",
            "\u001b[?25l  Downloading https://files.pythonhosted.org/packages/ee/10/08dc3b74cc9c47a2c81b2e88e06c2661783b86fd77fc80f7a3eb1bf56905/botocore-1.19.59-py2.py3-none-any.whl (7.2MB)\n",
            "\u001b[K     |████████████████████████████████| 7.2MB 27.1MB/s \n",
            "\u001b[?25hCollecting s3transfer<0.4.0,>=0.3.0\n",
            "\u001b[?25l  Downloading https://files.pythonhosted.org/packages/ea/43/4b4a1b26eb03a429a4c37ca7fdf369d938bd60018fc194e94b8379b0c77c/s3transfer-0.3.4-py2.py3-none-any.whl (69kB)\n",
            "\u001b[K     |████████████████████████████████| 71kB 5.9MB/s \n",
            "\u001b[?25hCollecting colorama<0.4.4,>=0.2.5; python_version != \"3.4\"\n",
            "  Downloading https://files.pythonhosted.org/packages/c9/dc/45cdef1b4d119eb96316b3117e6d5708a08029992b2fee2c143c7a0a5cc5/colorama-0.4.3-py2.py3-none-any.whl\n",
            "Requirement already satisfied: PyYAML<5.4,>=3.10; python_version != \"3.4\" in /usr/local/lib/python3.6/dist-packages (from awscli->-r requirements.txt (line 3)) (3.13)\n",
            "Collecting docutils<0.16,>=0.10\n",
            "\u001b[?25l  Downloading https://files.pythonhosted.org/packages/22/cd/a6aa959dca619918ccb55023b4cb151949c64d4d5d55b3f4ffd7eee0c6e8/docutils-0.15.2-py3-none-any.whl (547kB)\n",
            "\u001b[K     |████████████████████████████████| 552kB 56.3MB/s \n",
            "\u001b[?25hCollecting rsa<=4.5.0,>=3.1.2; python_version != \"3.4\"\n",
            "  Downloading https://files.pythonhosted.org/packages/26/f8/8127fdda0294f044121d20aac7785feb810e159098447967a6103dedfb96/rsa-4.5-py2.py3-none-any.whl\n",
            "Requirement already satisfied: six>=1.5 in /usr/local/lib/python3.6/dist-packages (from python-dateutil>=2.7.3->pandas->-r requirements.txt (line 1)) (1.15.0)\n",
            "Collecting jmespath<1.0.0,>=0.7.1\n",
            "  Downloading https://files.pythonhosted.org/packages/07/cb/5f001272b6faeb23c1c9e0acc04d48eaaf5c862c17709d20e3469c6e0139/jmespath-0.10.0-py2.py3-none-any.whl\n",
            "Requirement already satisfied: pyasn1>=0.1.3 in /usr/local/lib/python3.6/dist-packages (from rsa<=4.5.0,>=3.1.2; python_version != \"3.4\"->awscli->-r requirements.txt (line 3)) (0.4.8)\n",
            "\u001b[31mERROR: datascience 0.10.6 has requirement folium==0.2.1, but you'll have folium 0.8.3 which is incompatible.\u001b[0m\n",
            "\u001b[31mERROR: botocore 1.19.59 has requirement urllib3<1.27,>=1.25.4; python_version != \"3.4\", but you'll have urllib3 1.24.3 which is incompatible.\u001b[0m\n",
            "Installing collected packages: jmespath, botocore, s3transfer, colorama, docutils, rsa, awscli\n",
            "  Found existing installation: docutils 0.16\n",
            "    Uninstalling docutils-0.16:\n",
            "      Successfully uninstalled docutils-0.16\n",
            "  Found existing installation: rsa 4.6\n",
            "    Uninstalling rsa-4.6:\n",
            "      Successfully uninstalled rsa-4.6\n",
            "Successfully installed awscli-1.18.219 botocore-1.19.59 colorama-0.4.3 docutils-0.15.2 jmespath-0.10.0 rsa-4.5 s3transfer-0.3.4\n"
          ],
          "name": "stdout"
        }
      ]
    },
    {
      "cell_type": "code",
      "metadata": {
        "colab": {
          "base_uri": "https://localhost:8080/"
        },
        "id": "BoLRGg6sSeKj",
        "outputId": "a27264a2-a1f2-4408-d6a6-702f5bd7a391"
      },
      "source": [
        "!python3 main.py"
      ],
      "execution_count": null,
      "outputs": [
        {
          "output_type": "stream",
          "text": [
            "usage: main.py [-h] [--Dataset /path/to/OID/csv/] [-y]\n",
            "               [--classes list of classes [list of classes ...]]\n",
            "               [--type_csv 'train' or 'validation' or 'test' or 'all']\n",
            "               [--sub Subset of human verified images or machine generated h or m)]\n",
            "               [--image_IsOccluded 1 or 0] [--image_IsTruncated 1 or 0]\n",
            "               [--image_IsGroupOf 1 or 0] [--image_IsDepiction 1 or 0]\n",
            "               [--image_IsInside 1 or 0] [--multiclasses 0 (default or 1]\n",
            "               [--n_threads [default 20]] [--noLabels]\n",
            "               [--limit integer number]\n",
            "               <command> 'downloader', 'visualizer' or 'ill_downloader'.\n",
            "main.py: error: the following arguments are required: <command> 'downloader', 'visualizer' or 'ill_downloader'.\n"
          ],
          "name": "stdout"
        }
      ]
    },
    {
      "cell_type": "code",
      "metadata": {
        "colab": {
          "base_uri": "https://localhost:8080/"
        },
        "id": "pduWmc3GSuGG",
        "outputId": "87545f82-7f4d-4ba4-9542-0a9d96456145"
      },
      "source": [
        "! python3 main.py downloader --classes \"Human head\" \"Human hand\" --type_csv train --limit 10000"
      ],
      "execution_count": null,
      "outputs": [
        {
          "output_type": "stream",
          "text": [
            "\u001b[92m\n",
            "\t\t   ___   _____  ______            _    _    \n",
            "\t\t .'   `.|_   _||_   _ `.         | |  | |   \n",
            "\t\t/  .-.  \\ | |    | | `. \\ _   __ | |__| |_  \n",
            "\t\t| |   | | | |    | |  | |[ \\ [  ]|____   _| \n",
            "\t\t\\  `-'  /_| |_  _| |_.' / \\ \\/ /     _| |_  \n",
            "\t\t `.___.'|_____||______.'   \\__/     |_____|\n",
            "\t\u001b[0m\n",
            "\u001b[92m\n",
            "             _____                    _                 _             \n",
            "            (____ \\                  | |               | |            \n",
            "             _   \\ \\ ___  _ _ _ ____ | | ___   ____  _ | | ____  ____ \n",
            "            | |   | / _ \\| | | |  _ \\| |/ _ \\ / _  |/ || |/ _  )/ ___)\n",
            "            | |__/ / |_| | | | | | | | | |_| ( ( | ( (_| ( (/ /| |    \n",
            "            |_____/ \\___/ \\____|_| |_|_|\\___/ \\_||_|\\____|\\____)_|    \n",
            "                                                          \n",
            "        \u001b[0m\n",
            "    [INFO] | Downloading Human head.\u001b[0m\n",
            "\u001b[91m   [ERROR] | Missing the class-descriptions-boxable.csv file.\u001b[0m\n",
            "\u001b[94m[DOWNLOAD] | Do you want to download the missing file? [Y/n] \u001b[0mY\n",
            "...145%, 0 MB, 35319 KB/s, 0 seconds passed\n",
            "\u001b[94m[DOWNLOAD] | File class-descriptions-boxable.csv downloaded into OID/csv_folder/class-descriptions-boxable.csv.\u001b[0m\n",
            "\u001b[91m   [ERROR] | Missing the train-annotations-bbox.csv file.\u001b[0m\n",
            "\u001b[94m[DOWNLOAD] | Do you want to download the missing file? [Y/n] \u001b[0mY\n",
            "...100%, 1138 MB, 32972 KB/s, 35 seconds passed\n",
            "\u001b[94m[DOWNLOAD] | File train-annotations-bbox.csv downloaded into OID/csv_folder/train-annotations-bbox.csv.\u001b[0m\n",
            "\n",
            "\u001b[95mHuman head\u001b[0m\n",
            "    [INFO] | Downloading train images.\u001b[0m\n",
            "    [INFO] | [INFO] Found 49308 online images for train.\u001b[0m\n",
            "    [INFO] | Limiting to 10000 images.\u001b[0m\n",
            "    [INFO] | Download of 10000 images in train.\u001b[0m\n",
            "100% 10000/10000 [1:46:41<00:00,  1.56it/s]\n",
            "    [INFO] | Done!\u001b[0m\n",
            "    [INFO] | Creating labels for Human head of train.\u001b[0m\n",
            "    [INFO] | Labels creation completed.\u001b[0m\n",
            "    [INFO] | Downloading Human hand.\u001b[0m\n",
            "\n",
            "\u001b[95mHuman hand\u001b[0m\n",
            "    [INFO] | Downloading train images.\u001b[0m\n",
            "    [INFO] | [INFO] Found 22093 online images for train.\u001b[0m\n",
            "    [INFO] | Limiting to 10000 images.\u001b[0m\n",
            "    [INFO] | Download of 10000 images in train.\u001b[0m\n",
            " 90% 8987/10000 [1:29:59<11:12,  1.51it/s]"
          ],
          "name": "stdout"
        }
      ]
    },
    {
      "cell_type": "code",
      "metadata": {
        "colab": {
          "base_uri": "https://localhost:8080/"
        },
        "id": "0cuXnuTKija6",
        "outputId": "5f65578e-1ffc-48d5-acac-8462c76c7df7"
      },
      "source": [
        "%cd /content/MyDrive/My Drive/data/human_head"
      ],
      "execution_count": null,
      "outputs": [
        {
          "output_type": "stream",
          "text": [
            "/content/MyDrive/My Drive/data/human_head\n"
          ],
          "name": "stdout"
        }
      ]
    },
    {
      "cell_type": "code",
      "metadata": {
        "colab": {
          "base_uri": "https://localhost:8080/"
        },
        "id": "bw6tDzU-BMHb",
        "outputId": "b66d06c5-4172-4922-cd42-d55083487171"
      },
      "source": [
        "%cd OID/Dataset/train/Human\\ hand"
      ],
      "execution_count": null,
      "outputs": [
        {
          "output_type": "stream",
          "text": [
            "/content/MyDrive/MyDrive/data/human_head/OIDv4_ToolKit/OID/Dataset/train/Human hand\n"
          ],
          "name": "stdout"
        }
      ]
    },
    {
      "cell_type": "code",
      "metadata": {
        "colab": {
          "base_uri": "https://localhost:8080/"
        },
        "id": "kDvEPqeFMpk8",
        "outputId": "9fd5e947-72e3-4ed4-ddcf-4849ae451a64"
      },
      "source": [
        "%cd OID/Dataset/train/Human\\ head"
      ],
      "execution_count": null,
      "outputs": [
        {
          "output_type": "stream",
          "text": [
            "/content/MyDrive/MyDrive/data/human_head/OIDv4_ToolKit/OID/Dataset/train/Human head\n"
          ],
          "name": "stdout"
        }
      ]
    },
    {
      "cell_type": "code",
      "metadata": {
        "colab": {
          "base_uri": "https://localhost:8080/"
        },
        "id": "Ydc2WrJQTr6A",
        "outputId": "a923b2b3-7709-4541-ab08-5e02e78ee4cb"
      },
      "source": [
        "!ls -1U | wc -l"
      ],
      "execution_count": null,
      "outputs": [
        {
          "output_type": "stream",
          "text": [
            "10001\n"
          ],
          "name": "stdout"
        }
      ]
    },
    {
      "cell_type": "code",
      "metadata": {
        "colab": {
          "base_uri": "https://localhost:8080/"
        },
        "id": "rwInNXemltYs",
        "outputId": "9e44b3c6-ece3-4208-b2fb-ba288316a8e0"
      },
      "source": [
        "# 1.13.1のGPU版をインストール\n",
        "!pip uninstall -y tensorflow\n",
        "%tensorflow_version 1.x\n",
        "!pip uninstall -y tensorflow\n",
        "!pip install tensorflow-gpu==1.13.1"
      ],
      "execution_count": null,
      "outputs": [
        {
          "output_type": "stream",
          "text": [
            "Uninstalling tensorflow-2.4.0:\n",
            "  Successfully uninstalled tensorflow-2.4.0\n",
            "TensorFlow 1.x selected.\n",
            "Uninstalling tensorflow-1.15.2:\n",
            "  Successfully uninstalled tensorflow-1.15.2\n",
            "Collecting tensorflow-gpu==1.13.1\n",
            "\u001b[?25l  Downloading https://files.pythonhosted.org/packages/7b/b1/0ad4ae02e17ddd62109cd54c291e311c4b5fd09b4d0678d3d6ce4159b0f0/tensorflow_gpu-1.13.1-cp36-cp36m-manylinux1_x86_64.whl (345.2MB)\n",
            "\u001b[K     |████████████████████████████████| 345.2MB 43kB/s \n",
            "\u001b[?25hRequirement already satisfied: protobuf>=3.6.1 in /usr/local/lib/python3.6/dist-packages (from tensorflow-gpu==1.13.1) (3.12.4)\n",
            "Requirement already satisfied: absl-py>=0.1.6 in /usr/local/lib/python3.6/dist-packages (from tensorflow-gpu==1.13.1) (0.10.0)\n",
            "Collecting tensorflow-estimator<1.14.0rc0,>=1.13.0\n",
            "\u001b[?25l  Downloading https://files.pythonhosted.org/packages/bb/48/13f49fc3fa0fdf916aa1419013bb8f2ad09674c275b4046d5ee669a46873/tensorflow_estimator-1.13.0-py2.py3-none-any.whl (367kB)\n",
            "\u001b[K     |████████████████████████████████| 368kB 46.4MB/s \n",
            "\u001b[?25hRequirement already satisfied: keras-preprocessing>=1.0.5 in /usr/local/lib/python3.6/dist-packages (from tensorflow-gpu==1.13.1) (1.1.2)\n",
            "Requirement already satisfied: keras-applications>=1.0.6 in /tensorflow-1.15.2/python3.6 (from tensorflow-gpu==1.13.1) (1.0.8)\n",
            "Collecting tensorboard<1.14.0,>=1.13.0\n",
            "\u001b[?25l  Downloading https://files.pythonhosted.org/packages/0f/39/bdd75b08a6fba41f098b6cb091b9e8c7a80e1b4d679a581a0ccd17b10373/tensorboard-1.13.1-py3-none-any.whl (3.2MB)\n",
            "\u001b[K     |████████████████████████████████| 3.2MB 46.0MB/s \n",
            "\u001b[?25hRequirement already satisfied: termcolor>=1.1.0 in /usr/local/lib/python3.6/dist-packages (from tensorflow-gpu==1.13.1) (1.1.0)\n",
            "Requirement already satisfied: grpcio>=1.8.6 in /usr/local/lib/python3.6/dist-packages (from tensorflow-gpu==1.13.1) (1.32.0)\n",
            "Requirement already satisfied: gast>=0.2.0 in /usr/local/lib/python3.6/dist-packages (from tensorflow-gpu==1.13.1) (0.3.3)\n",
            "Requirement already satisfied: astor>=0.6.0 in /usr/local/lib/python3.6/dist-packages (from tensorflow-gpu==1.13.1) (0.8.1)\n",
            "Requirement already satisfied: numpy>=1.13.3 in /usr/local/lib/python3.6/dist-packages (from tensorflow-gpu==1.13.1) (1.19.5)\n",
            "Requirement already satisfied: wheel>=0.26 in /usr/local/lib/python3.6/dist-packages (from tensorflow-gpu==1.13.1) (0.36.2)\n",
            "Requirement already satisfied: six>=1.10.0 in /usr/local/lib/python3.6/dist-packages (from tensorflow-gpu==1.13.1) (1.15.0)\n",
            "Requirement already satisfied: setuptools in /usr/local/lib/python3.6/dist-packages (from protobuf>=3.6.1->tensorflow-gpu==1.13.1) (51.3.3)\n",
            "Collecting mock>=2.0.0\n",
            "  Downloading https://files.pythonhosted.org/packages/5c/03/b7e605db4a57c0f6fba744b11ef3ddf4ddebcada35022927a2b5fc623fdf/mock-4.0.3-py3-none-any.whl\n",
            "Requirement already satisfied: h5py in /usr/local/lib/python3.6/dist-packages (from keras-applications>=1.0.6->tensorflow-gpu==1.13.1) (2.10.0)\n",
            "Requirement already satisfied: markdown>=2.6.8 in /usr/local/lib/python3.6/dist-packages (from tensorboard<1.14.0,>=1.13.0->tensorflow-gpu==1.13.1) (3.3.3)\n",
            "Requirement already satisfied: werkzeug>=0.11.15 in /usr/local/lib/python3.6/dist-packages (from tensorboard<1.14.0,>=1.13.0->tensorflow-gpu==1.13.1) (1.0.1)\n",
            "Requirement already satisfied: importlib-metadata; python_version < \"3.8\" in /usr/local/lib/python3.6/dist-packages (from markdown>=2.6.8->tensorboard<1.14.0,>=1.13.0->tensorflow-gpu==1.13.1) (3.3.0)\n",
            "Requirement already satisfied: typing-extensions>=3.6.4; python_version < \"3.8\" in /usr/local/lib/python3.6/dist-packages (from importlib-metadata; python_version < \"3.8\"->markdown>=2.6.8->tensorboard<1.14.0,>=1.13.0->tensorflow-gpu==1.13.1) (3.7.4.3)\n",
            "Requirement already satisfied: zipp>=0.5 in /usr/local/lib/python3.6/dist-packages (from importlib-metadata; python_version < \"3.8\"->markdown>=2.6.8->tensorboard<1.14.0,>=1.13.0->tensorflow-gpu==1.13.1) (3.4.0)\n",
            "Installing collected packages: mock, tensorflow-estimator, tensorboard, tensorflow-gpu\n",
            "  Found existing installation: tensorflow-estimator 1.15.1\n",
            "    Uninstalling tensorflow-estimator-1.15.1:\n",
            "      Successfully uninstalled tensorflow-estimator-1.15.1\n",
            "  Found existing installation: tensorboard 1.15.0\n",
            "    Uninstalling tensorboard-1.15.0:\n",
            "      Successfully uninstalled tensorboard-1.15.0\n",
            "Successfully installed mock-4.0.3 tensorboard-2.4.0 tensorflow-estimator-2.4.0 tensorflow-gpu-1.13.1\n"
          ],
          "name": "stdout"
        }
      ]
    },
    {
      "cell_type": "code",
      "metadata": {
        "id": "sJOxDKILi0bU",
        "colab": {
          "base_uri": "https://localhost:8080/"
        },
        "outputId": "dd77a7f6-24bc-4fc0-923a-3a0e1235a336"
      },
      "source": [
        "# !mkdir -p ../APC_model/train\n",
        "# !python /content/MyDrive/MyDrive/APC_project/models/research/object_detection/dataset_tools/create_oid_tf_record.py \\\n",
        "#     --input_box_annotations_csv ../OIDv4_ToolKit/OID/csv_folder/train-annotations-bbox.csv \\\n",
        "#     --input_images_directory ../OIDv4_ToolKit/OID/Dataset/train \\\n",
        "#     --input_label_map /content/MyDrive/MyDrive/APC_project/data/tf_label_map.pbtxt \\\n",
        "#     --output_tf_record_path_prefix ../train_tfrecord \\\n",
        "#     --num_shards 10"
      ],
      "execution_count": null,
      "outputs": [
        {
          "output_type": "stream",
          "text": [
            "2021-01-26 01:07:14.279199: I tensorflow/stream_executor/platform/default/dso_loader.cc:49] Successfully opened dynamic library libcudart.so.10.1\n",
            "Traceback (most recent call last):\n",
            "  File \"/content/MyDrive/MyDrive/APC_project/models/research/object_detection/dataset_tools/create_oid_tf_record.py\", line 47, in <module>\n",
            "    from object_detection.dataset_tools import oid_tfrecord_creation\n",
            "ModuleNotFoundError: No module named 'object_detection'\n"
          ],
          "name": "stdout"
        }
      ]
    },
    {
      "cell_type": "code",
      "metadata": {
        "colab": {
          "base_uri": "https://localhost:8080/"
        },
        "id": "Y2jmYbYVcnMd",
        "outputId": "72673219-5d92-4e7a-acf4-77aef37f1222"
      },
      "source": [
        "%tensorflow_version 1.x\n",
        "import os\n",
        "import pathlib\n",
        "\n",
        "%cd /content/MyDrive/MyDrive/APC_project/models/research\n",
        "!protoc object_detection/protos/*.proto --python_out=.\n",
        "\n",
        "pwd = os.getcwd()\n",
        "os.environ['PYTHONPATH'] += f':{pwd}:{pwd}/slim'"
      ],
      "execution_count": null,
      "outputs": [
        {
          "output_type": "stream",
          "text": [
            "/content/MyDrive/MyDrive/APC_project/models/research\n"
          ],
          "name": "stdout"
        }
      ]
    },
    {
      "cell_type": "code",
      "metadata": {
        "colab": {
          "base_uri": "https://localhost:8080/"
        },
        "id": "UtNPDeyyPHU-",
        "outputId": "c561aab5-fde2-4e1c-f952-61fed05d62cf"
      },
      "source": [
        "!mkdir -p /content/MyDrive/MyDrive/data/human_head/APC_model/train\n",
        "!python /content/MyDrive/MyDrive/APC_project/models/research/object_detection/dataset_tools/create_oid_tf_record.py \\\n",
        "    --input_box_annotations_csv /content/MyDrive/MyDrive/data/human_head/OIDv4_ToolKit/OID/csv_folder/train-annotations-bbox.csv \\\n",
        "    --input_images_directory /content/MyDrive/MyDrive/data/human_head/OIDv4_ToolKit/OID/Dataset/train/Human\\ head \\\n",
        "    --input_label_map /content/MyDrive/MyDrive/APC_project/data/oid_v4_label_map.pbtxt \\\n",
        "    --output_tf_record_path_prefix /content/MyDrive/MyDrive/data/human_head/train.tfrecord \\\n",
        "    --num_shards 10"
      ],
      "execution_count": null,
      "outputs": [
        {
          "output_type": "stream",
          "text": [
            "/usr/local/lib/python3.6/dist-packages/tensorflow/python/framework/dtypes.py:526: FutureWarning: Passing (type, 1) or '1type' as a synonym of type is deprecated; in a future version of numpy, it will be understood as (type, (1,)) / '(1,)type'.\n",
            "  _np_qint8 = np.dtype([(\"qint8\", np.int8, 1)])\n",
            "/usr/local/lib/python3.6/dist-packages/tensorflow/python/framework/dtypes.py:527: FutureWarning: Passing (type, 1) or '1type' as a synonym of type is deprecated; in a future version of numpy, it will be understood as (type, (1,)) / '(1,)type'.\n",
            "  _np_quint8 = np.dtype([(\"quint8\", np.uint8, 1)])\n",
            "/usr/local/lib/python3.6/dist-packages/tensorflow/python/framework/dtypes.py:528: FutureWarning: Passing (type, 1) or '1type' as a synonym of type is deprecated; in a future version of numpy, it will be understood as (type, (1,)) / '(1,)type'.\n",
            "  _np_qint16 = np.dtype([(\"qint16\", np.int16, 1)])\n",
            "/usr/local/lib/python3.6/dist-packages/tensorflow/python/framework/dtypes.py:529: FutureWarning: Passing (type, 1) or '1type' as a synonym of type is deprecated; in a future version of numpy, it will be understood as (type, (1,)) / '(1,)type'.\n",
            "  _np_quint16 = np.dtype([(\"quint16\", np.uint16, 1)])\n",
            "/usr/local/lib/python3.6/dist-packages/tensorflow/python/framework/dtypes.py:530: FutureWarning: Passing (type, 1) or '1type' as a synonym of type is deprecated; in a future version of numpy, it will be understood as (type, (1,)) / '(1,)type'.\n",
            "  _np_qint32 = np.dtype([(\"qint32\", np.int32, 1)])\n",
            "/usr/local/lib/python3.6/dist-packages/tensorflow/python/framework/dtypes.py:535: FutureWarning: Passing (type, 1) or '1type' as a synonym of type is deprecated; in a future version of numpy, it will be understood as (type, (1,)) / '(1,)type'.\n",
            "  np_resource = np.dtype([(\"resource\", np.ubyte, 1)])\n",
            "INFO:tensorflow:Found 10000 images...\n",
            "tcmalloc: large alloc 1169620992 bytes == 0x117ad2000 @  0x7ff0a5f431e7 0x7ff0a3ac341e 0x7ff0a3b13c2b 0x7ff0a3b13cc8 0x7ff0a3bbafb0 0x7ff0a3bbb6dc 0x7ff0a3bbb7fd 0x566f73 0x59fd0e 0x7ff0a3b00ea7 0x50a12f 0x50beb4 0x507be4 0x509900 0x50a2fd 0x50beb4 0x507be4 0x588d41 0x59fd0e 0x7ff0a3b00ea7 0x50a12f 0x50beb4 0x507be4 0x509900 0x50a2fd 0x50beb4 0x507be4 0x509900 0x50a2fd 0x50cc96 0x5095c8\n",
            "INFO:tensorflow:Processed 0 images...\n",
            "--------image_path--------- /content/MyDrive/MyDrive/data/human_head/OIDv4_ToolKit/OID/Dataset/train/Human head/0000418f7ade0445.jpg\n",
            "--------label_map_type--------- <class 'dict'>\n",
            "--------label_map--------- {'background': 1, 'head': 2, 'hand': 3}\n",
            "--------------filtered_data_frame_boxes.YMin-----------/n Series([], Name: YMin, dtype: float64)\n",
            "Traceback (most recent call last):\n",
            "  File \"/content/MyDrive/MyDrive/APC_project/models/research/object_detection/dataset_tools/create_oid_tf_record.py\", line 133, in <module>\n",
            "    tf.app.run()\n",
            "  File \"/usr/local/lib/python3.6/dist-packages/tensorflow/python/platform/app.py\", line 125, in run\n",
            "    _sys.exit(main(argv))\n",
            "  File \"/content/MyDrive/MyDrive/APC_project/models/research/object_detection/dataset_tools/create_oid_tf_record.py\", line 116, in main\n",
            "    image_annotations, label_map, encoded_image)\n",
            "  File \"/content/MyDrive/My Drive/APC_project/models/research/object_detection/dataset_tools/oid_tfrecord_creation.py\", line 55, in tf_example_from_annotations_data_frame\n",
            "    filtered_data_frame_boxes.YMin.as_matrix()),\n",
            "  File \"/usr/local/lib/python3.6/dist-packages/pandas/core/generic.py\", line 5141, in __getattr__\n",
            "    return object.__getattribute__(self, name)\n",
            "AttributeError: 'Series' object has no attribute 'as_matrix'\n"
          ],
          "name": "stdout"
        }
      ]
    },
    {
      "cell_type": "code",
      "metadata": {
        "colab": {
          "base_uri": "https://localhost:8080/"
        },
        "id": "j1uIyZjOQAvi",
        "outputId": "f445a37f-394f-4794-8559-657c28571de6"
      },
      "source": [
        "!python /content/MyDrive/MyDrive/APC_project/models/research/object_detection/dataset_tools/oid_tfrecord_creation_test.py \\"
      ],
      "execution_count": null,
      "outputs": [
        {
          "output_type": "stream",
          "text": [
            "/usr/local/lib/python3.6/dist-packages/tensorflow/python/framework/dtypes.py:526: FutureWarning: Passing (type, 1) or '1type' as a synonym of type is deprecated; in a future version of numpy, it will be understood as (type, (1,)) / '(1,)type'.\n",
            "  _np_qint8 = np.dtype([(\"qint8\", np.int8, 1)])\n",
            "/usr/local/lib/python3.6/dist-packages/tensorflow/python/framework/dtypes.py:527: FutureWarning: Passing (type, 1) or '1type' as a synonym of type is deprecated; in a future version of numpy, it will be understood as (type, (1,)) / '(1,)type'.\n",
            "  _np_quint8 = np.dtype([(\"quint8\", np.uint8, 1)])\n",
            "/usr/local/lib/python3.6/dist-packages/tensorflow/python/framework/dtypes.py:528: FutureWarning: Passing (type, 1) or '1type' as a synonym of type is deprecated; in a future version of numpy, it will be understood as (type, (1,)) / '(1,)type'.\n",
            "  _np_qint16 = np.dtype([(\"qint16\", np.int16, 1)])\n",
            "/usr/local/lib/python3.6/dist-packages/tensorflow/python/framework/dtypes.py:529: FutureWarning: Passing (type, 1) or '1type' as a synonym of type is deprecated; in a future version of numpy, it will be understood as (type, (1,)) / '(1,)type'.\n",
            "  _np_quint16 = np.dtype([(\"quint16\", np.uint16, 1)])\n",
            "/usr/local/lib/python3.6/dist-packages/tensorflow/python/framework/dtypes.py:530: FutureWarning: Passing (type, 1) or '1type' as a synonym of type is deprecated; in a future version of numpy, it will be understood as (type, (1,)) / '(1,)type'.\n",
            "  _np_qint32 = np.dtype([(\"qint32\", np.int32, 1)])\n",
            "/usr/local/lib/python3.6/dist-packages/tensorflow/python/framework/dtypes.py:535: FutureWarning: Passing (type, 1) or '1type' as a synonym of type is deprecated; in a future version of numpy, it will be understood as (type, (1,)) / '(1,)type'.\n",
            "  np_resource = np.dtype([(\"resource\", np.ubyte, 1)])\n",
            "--------------filtered_data_frame_boxes.YMin-----------/n 0    0.3\n",
            "1    0.6\n",
            "Name: YMin, dtype: float64\n",
            "E--------------filtered_data_frame_boxes.YMin-----------/n 5    0.0\n",
            "6    0.0\n",
            "Name: YMin, dtype: float64\n",
            "Es--------------filtered_data_frame_boxes.YMin-----------/n 0    0.3\n",
            "1    0.6\n",
            "2    0.8\n",
            "3    0.1\n",
            "Name: YMin, dtype: float64\n",
            "E\n",
            "======================================================================\n",
            "ERROR: test_label_filtering (__main__.TfExampleFromAnnotationsDataFrameTests)\n",
            "----------------------------------------------------------------------\n",
            "Traceback (most recent call last):\n",
            "  File \"/content/MyDrive/MyDrive/APC_project/models/research/object_detection/dataset_tools/oid_tfrecord_creation_test.py\", line 147, in test_label_filtering\n",
            "    df[df.ImageID == 'i1'], label_map, 'encoded_image_test')\n",
            "  File \"/content/MyDrive/My Drive/APC_project/models/research/object_detection/dataset_tools/oid_tfrecord_creation.py\", line 55, in tf_example_from_annotations_data_frame\n",
            "    filtered_data_frame_boxes.YMin.as_matrix()),\n",
            "  File \"/usr/local/lib/python3.6/dist-packages/pandas/core/generic.py\", line 5141, in __getattr__\n",
            "    return object.__getattribute__(self, name)\n",
            "AttributeError: 'Series' object has no attribute 'as_matrix'\n",
            "\n",
            "======================================================================\n",
            "ERROR: test_no_attributes (__main__.TfExampleFromAnnotationsDataFrameTests)\n",
            "----------------------------------------------------------------------\n",
            "Traceback (most recent call last):\n",
            "  File \"/content/MyDrive/MyDrive/APC_project/models/research/object_detection/dataset_tools/oid_tfrecord_creation_test.py\", line 109, in test_no_attributes\n",
            "    df[df.ImageID == 'i2'], label_map, 'encoded_image_test')\n",
            "  File \"/content/MyDrive/My Drive/APC_project/models/research/object_detection/dataset_tools/oid_tfrecord_creation.py\", line 55, in tf_example_from_annotations_data_frame\n",
            "    filtered_data_frame_boxes.YMin.as_matrix()),\n",
            "  File \"/usr/local/lib/python3.6/dist-packages/pandas/core/generic.py\", line 5141, in __getattr__\n",
            "    return object.__getattribute__(self, name)\n",
            "AttributeError: 'Series' object has no attribute 'as_matrix'\n",
            "\n",
            "======================================================================\n",
            "ERROR: test_simple (__main__.TfExampleFromAnnotationsDataFrameTests)\n",
            "----------------------------------------------------------------------\n",
            "Traceback (most recent call last):\n",
            "  File \"/content/MyDrive/MyDrive/APC_project/models/research/object_detection/dataset_tools/oid_tfrecord_creation_test.py\", line 48, in test_simple\n",
            "    df[df.ImageID == 'i1'], label_map, 'encoded_image_test')\n",
            "  File \"/content/MyDrive/My Drive/APC_project/models/research/object_detection/dataset_tools/oid_tfrecord_creation.py\", line 55, in tf_example_from_annotations_data_frame\n",
            "    filtered_data_frame_boxes.YMin.as_matrix()),\n",
            "  File \"/usr/local/lib/python3.6/dist-packages/pandas/core/generic.py\", line 5141, in __getattr__\n",
            "    return object.__getattribute__(self, name)\n",
            "AttributeError: 'Series' object has no attribute 'as_matrix'\n",
            "\n",
            "----------------------------------------------------------------------\n",
            "Ran 4 tests in 0.036s\n",
            "\n",
            "FAILED (errors=3, skipped=1)\n"
          ],
          "name": "stdout"
        }
      ]
    }
  ]
}